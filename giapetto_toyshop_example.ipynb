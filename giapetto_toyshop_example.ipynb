{
 "cells": [
  {
   "cell_type": "markdown",
   "metadata": {},
   "source": [
    "# Introduction to Linear Optimization in Python\n",
    "\n",
    "I am using an example I borrowed from [here](http://isaacslavitt.com/2014/06/20/linear-optimization-in-python/). \n",
    "\n",
    "## Giapetto Woodcarving Inc. Example\n",
    "\n",
    "Giapetto’s Woodcarving, Inc., manufactures two types of wooden toys: soldiers and trains.\n",
    "\n",
    "A soldier sells for 27 dollars and uses 10 dollars worth of raw materials. Each soldier that is manufactured increases Giapetto’s variable labor and overhead costs by 14 dollars. A train sells for 21 dollars and uses 9 dollars worth of raw materials. Each train built increases Giapetto’s variable labor and overhead costs by 10 dollars. The manufacture of wooden soldiers and trains requires two types of skilled labor: carpentry and finishing. A soldier requires 2 hours of finishing labor and 1 hour of carpentry labor. A train requires 1 hour of finishing labor and 1 hour of carpentry labor. Each week, Giapetto can obtain all the needed raw material but only 100 finishing hours and 80 carpentry hours. Demand for trains is unlimited, but at most 40 soldiers are bought each week. Giapetto wants to maximize weekly profit (revenues-costs).\n",
    "\n",
    "Formulate a mathematical model of Giapetto’s situation that can be used to maximize Giapetto’s weekly profit."
   ]
  },
  {
   "cell_type": "markdown",
   "metadata": {},
   "source": [
    "## Set up\n",
    "I used the [Anaconda](https://docs.continuum.io/anaconda/install) as my base Python library.\n",
    "You then need to install these two libraries:\n",
    "1. Pulp (main optimizaiton library)\n",
    "> pip install pulp\n",
    "2. seaborn (for graphing)\n",
    "> conda install seaborn"
   ]
  },
  {
   "cell_type": "code",
   "execution_count": null,
   "metadata": {
    "collapsed": true
   },
   "outputs": [],
   "source": [
    "import numpy as np\n",
    "import pulp\n",
    "\n",
    "# create the LP object, set up as a maximization problem\n",
    "prob = pulp.LpProblem('Giapetto', pulp.LpMaximize)\n",
    "\n",
    "# set up decision variables\n",
    "soldiers = pulp.LpVariable('soldiers', lowBound=0, cat='Integer')\n",
    "trains = pulp.LpVariable('trains', lowBound=0, cat='Integer')"
   ]
  },
  {
   "cell_type": "markdown",
   "metadata": {},
   "source": [
    "### Add the objective function"
   ]
  },
  {
   "cell_type": "code",
   "execution_count": null,
   "metadata": {
    "collapsed": true
   },
   "outputs": [],
   "source": [
    "# model weekly production costs\n",
    "raw_material_costs = 10 * soldiers + 9 * trains\n",
    "variable_costs = 14 * soldiers + 10 * trains\n",
    "\n",
    "# model weekly revenues from toy sales\n",
    "revenues = 27 * soldiers + 21 * trains\n",
    "\n",
    "# use weekly profit as the objective function to maximize\n",
    "profit = revenues - (raw_material_costs + variable_costs)\n",
    "prob += profit  # here's where we actually add it to the obj function"
   ]
  },
  {
   "cell_type": "markdown",
   "metadata": {},
   "source": [
    "### Add constraints"
   ]
  },
  {
   "cell_type": "code",
   "execution_count": null,
   "metadata": {
    "collapsed": true
   },
   "outputs": [],
   "source": [
    "# add constraints for available labor hours\n",
    "carpentry_hours = soldiers + trains\n",
    "prob += (carpentry_hours <= 80)\n",
    "\n",
    "finishing_hours = 2*soldiers + trains\n",
    "prob += (finishing_hours <= 100)\n",
    "\n",
    "# add constraint representing demand for soldiers\n",
    "prob += (soldiers <= 40)"
   ]
  },
  {
   "cell_type": "markdown",
   "metadata": {},
   "source": [
    "### Print for a sanity check"
   ]
  },
  {
   "cell_type": "code",
   "execution_count": null,
   "metadata": {
    "collapsed": false
   },
   "outputs": [],
   "source": [
    "print(prob)"
   ]
  },
  {
   "cell_type": "markdown",
   "metadata": {},
   "source": [
    "### Solve problem and print results"
   ]
  },
  {
   "cell_type": "code",
   "execution_count": null,
   "metadata": {
    "collapsed": false
   },
   "outputs": [],
   "source": [
    "# solve the LP using the default solver\n",
    "optimization_result = prob.solve()\n",
    "\n",
    "# make sure we got an optimal solution\n",
    "assert optimization_result == pulp.LpStatusOptimal\n",
    "\n",
    "# display the results\n",
    "for var in (soldiers, trains):\n",
    "    print('Optimal weekly number of {} to produce: {:1.0f}'.format(var.name, var.value()))"
   ]
  },
  {
   "cell_type": "markdown",
   "metadata": {},
   "source": [
    "### Graphically validate answer\n",
    "Used [mathurl.com](http.mathurl.com) to generate image urls from latex code. Add __.png__ at end of generated url.\n",
    "#### Equations\n",
    "<img style=\"float:left;\" src=http://mathurl.com/hwkvky2.png >"
   ]
  },
  {
   "cell_type": "code",
   "execution_count": null,
   "metadata": {
    "collapsed": false
   },
   "outputs": [],
   "source": [
    "%matplotlib inline\n",
    "from matplotlib import pyplot as plt\n",
    "from matplotlib.path import Path\n",
    "from matplotlib.patches import PathPatch\n",
    "\n",
    "# use seaborn to change the default graphics to something nicer\n",
    "# and set a nice color palette\n",
    "import seaborn as sns\n",
    "sns.set_palette('Set1')\n",
    "\n",
    "# create the plot object\n",
    "fig, ax = plt.subplots(figsize=(8, 8))\n",
    "s = np.linspace(0, 100)\n",
    "\n",
    "# add carpentry constraint: trains <= 80 - soldiers\n",
    "plt.plot(s, 80 - s, lw=3, label='carpentry')\n",
    "plt.fill_between(s, 0, 80 - s, alpha=0.1)\n",
    "\n",
    "# add finishing constraint: trains <= 100 - 2*soldiers\n",
    "plt.plot(s, 100 - 2 * s, lw=3, label='finishing')\n",
    "plt.fill_between(s, 0, 100 - 2 * s, alpha=0.1)\n",
    "\n",
    "# add demains constraint: soldiers <= 40\n",
    "plt.plot(40 * np.ones_like(s), s, lw=3, label='demand')\n",
    "plt.fill_betweenx(s, 0, 40, alpha=0.1)\n",
    "\n",
    "# add non-negativity constraints\n",
    "plt.plot(np.zeros_like(s), s, lw=3, label='t non-negative')\n",
    "plt.plot(s, np.zeros_like(s), lw=3, label='s non-negative')\n",
    "\n",
    "# highlight the feasible region\n",
    "path = Path([\n",
    "    (0., 0.),\n",
    "    (0., 80.),\n",
    "    (20., 60.),\n",
    "    (40., 20.),\n",
    "    (40., 0.),\n",
    "    (0., 0.),\n",
    "])\n",
    "patch = PathPatch(path, label='feasible region', alpha=0.5)\n",
    "ax.add_patch(patch)\n",
    "\n",
    "# labels and stuff\n",
    "plt.xlabel('soldiers', fontsize=16)\n",
    "plt.ylabel('trains', fontsize=16)\n",
    "plt.xlim(-0.5, 100)\n",
    "plt.ylim(-0.5, 100)\n",
    "plt.legend(fontsize=14)\n",
    "plt.show()"
   ]
  }
 ],
 "metadata": {
  "kernelspec": {
   "display_name": "Python 2",
   "language": "python",
   "name": "python2"
  },
  "language_info": {
   "codemirror_mode": {
    "name": "ipython",
    "version": 2
   },
   "file_extension": ".py",
   "mimetype": "text/x-python",
   "name": "python",
   "nbconvert_exporter": "python",
   "pygments_lexer": "ipython2",
   "version": "2.7.12"
  }
 },
 "nbformat": 4,
 "nbformat_minor": 0
}
